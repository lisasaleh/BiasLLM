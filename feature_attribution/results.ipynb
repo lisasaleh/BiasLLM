{
 "cells": [
  {
   "cell_type": "code",
   "execution_count": null,
   "id": "319b93ad",
   "metadata": {},
   "outputs": [],
   "source": [
    "import json\n",
    "import pandas as pd\n",
    "from inseq.data import FeatureAttributionOutput\n",
    "\n",
    "# Path to your saved JSON file\n",
    "json_path = 'attributions_normal_train.json'\n",
    "\n",
    "# Load the attribution output\n",
    "out = FeatureAttributionOutput.load(json_path)\n",
    "\n",
    "# Extract primitive dicts\n",
    "dicts = out.get_scores_dicts()\n",
    "\n",
    "# Convert source attributions to DataFrame for the first sequence\n",
    "df = pd.DataFrame(dicts[0]['source_attributions'])\n",
    "df.index.name = 'Generated Token'\n",
    "df.columns.name = 'Input Token'\n",
    "df"
   ]
  },
  {
   "cell_type": "markdown",
   "id": "bc19b364",
   "metadata": {},
   "source": [
    "## Visualizations"
   ]
  },
  {
   "cell_type": "code",
   "execution_count": null,
   "id": "602fb7fe",
   "metadata": {},
   "outputs": [],
   "source": [
    "import matplotlib.pyplot as plt\n",
    "\n",
    "# Plot heatmap of attributions\n",
    "plt.figure(figsize=(10, 6))\n",
    "plt.imshow(df.values, aspect='auto')\n",
    "plt.xticks(range(len(df.columns)), df.columns, rotation=90)\n",
    "plt.yticks(range(len(df.index)), df.index)\n",
    "plt.xlabel('Input Tokens')\n",
    "plt.ylabel('Generated Tokens')\n",
    "plt.title('Integrated Gradients Attribution Heatmap')\n",
    "plt.colorbar(label='Attribution Score')\n",
    "plt.tight_layout()\n",
    "plt.show()"
   ]
  }
 ],
 "metadata": {
  "kernelspec": {
   "display_name": "Python 3",
   "language": "python",
   "name": "python3"
  },
  "language_info": {
   "codemirror_mode": {
    "name": "ipython",
    "version": 3
   },
   "file_extension": ".py",
   "mimetype": "text/x-python",
   "name": "python",
   "nbconvert_exporter": "python",
   "pygments_lexer": "ipython3",
   "version": "3.10.16"
  }
 },
 "nbformat": 4,
 "nbformat_minor": 5
}
